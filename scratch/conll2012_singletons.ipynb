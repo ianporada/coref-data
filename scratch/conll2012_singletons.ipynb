{
 "cells": [
  {
   "cell_type": "code",
   "execution_count": 2,
   "metadata": {},
   "outputs": [
    {
     "name": "stderr",
     "output_type": "stream",
     "text": [
      "/Users/ianporada/Research/envs/venv/lib/python3.12/site-packages/tqdm/auto.py:21: TqdmWarning: IProgress not found. Please update jupyter and ipywidgets. See https://ipywidgets.readthedocs.io/en/stable/user_install.html\n",
      "  from .autonotebook import tqdm as notebook_tqdm\n"
     ]
    }
   ],
   "source": [
    "import datasets"
   ]
  },
  {
   "cell_type": "code",
   "execution_count": 1,
   "metadata": {},
   "outputs": [
    {
     "ename": "NameError",
     "evalue": "name 'datasets' is not defined",
     "output_type": "error",
     "traceback": [
      "\u001b[0;31m---------------------------------------------------------------------------\u001b[0m",
      "\u001b[0;31mNameError\u001b[0m                                 Traceback (most recent call last)",
      "Cell \u001b[0;32mIn[1], line 1\u001b[0m\n\u001b[0;32m----> 1\u001b[0m conll_data \u001b[38;5;241m=\u001b[39m \u001b[43mdatasets\u001b[49m\u001b[38;5;241m.\u001b[39mload_dataset(\u001b[38;5;124m\"\u001b[39m\u001b[38;5;124mcoref-data/conll2012_indiscrim\u001b[39m\u001b[38;5;124m\"\u001b[39m, \u001b[38;5;124m\"\u001b[39m\u001b[38;5;124menglish_v4\u001b[39m\u001b[38;5;124m\"\u001b[39m)\n",
      "\u001b[0;31mNameError\u001b[0m: name 'datasets' is not defined"
     ]
    }
   ],
   "source": [
    "conll_data = datasets.load_dataset(\"coref-data/conll2012_indiscrim\", \"english_v4\")"
   ]
  },
  {
   "cell_type": "code",
   "execution_count": null,
   "metadata": {},
   "outputs": [],
   "source": [
    "# calculate singleton mentions using parse\n",
    "\n",
    "# All noun phrases with distinct headwords are extracted from previously treebanked data\n",
    "# Whenever head-sharing NPs are nested, the largest logical span is used in co-reference (see 2.4.1).\n",
    "\n",
    "# Possessive proper nouns (Fred's) are extracted from the treebanked data;\n",
    "# however, possessive pronouns (his) must be manually extracted by the annotator and added to the list of mentions\n",
    "\n",
    "# Proper noun PreMods can be co-referenced to existing noun phrases and/or other proper PreMods,\n",
    "# and should be manually extracted by the annotator and added to the list of mentions.\n",
    "# Non-proper and adjectival premodifiers are not eligible for co-reference (see 2.3).\n",
    "\n",
    "# Only the single-word head of the verb phrase is included in the span,\n",
    "# even in cases where the entire verb phrase is the logical co-referent."
   ]
  }
 ],
 "metadata": {
  "kernelspec": {
   "display_name": "venv",
   "language": "python",
   "name": "python3"
  },
  "language_info": {
   "codemirror_mode": {
    "name": "ipython",
    "version": 3
   },
   "file_extension": ".py",
   "mimetype": "text/x-python",
   "name": "python",
   "nbconvert_exporter": "python",
   "pygments_lexer": "ipython3",
   "version": "3.12.1"
  }
 },
 "nbformat": 4,
 "nbformat_minor": 2
}
