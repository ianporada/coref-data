{
 "cells": [
  {
   "cell_type": "code",
   "execution_count": 1,
   "metadata": {},
   "outputs": [],
   "source": [
    "import collections\n",
    "\n",
    "import datasets\n",
    "\n",
    "import spacy\n",
    "from spacy import displacy\n",
    "from spacy.tokens import Span"
   ]
  },
  {
   "cell_type": "code",
   "execution_count": 2,
   "metadata": {},
   "outputs": [
    {
     "data": {
      "application/vnd.jupyter.widget-view+json": {
       "model_id": "5a6151fc24a74654871d9802139b36d9",
       "version_major": 2,
       "version_minor": 0
      },
      "text/plain": [
       "Downloading readme:   0%|          | 0.00/1.82k [00:00<?, ?B/s]"
      ]
     },
     "metadata": {},
     "output_type": "display_data"
    },
    {
     "data": {
      "application/vnd.jupyter.widget-view+json": {
       "model_id": "468b826afb25476b9f5aa0b8c8e6c779",
       "version_major": 2,
       "version_minor": 0
      },
      "text/plain": [
       "Downloading data:   0%|          | 0.00/3.59M [00:00<?, ?B/s]"
      ]
     },
     "metadata": {},
     "output_type": "display_data"
    },
    {
     "data": {
      "application/vnd.jupyter.widget-view+json": {
       "model_id": "24f937d211df4a598ade3443b67dd700",
       "version_major": 2,
       "version_minor": 0
      },
      "text/plain": [
       "Downloading data:   0%|          | 0.00/848k [00:00<?, ?B/s]"
      ]
     },
     "metadata": {},
     "output_type": "display_data"
    },
    {
     "data": {
      "application/vnd.jupyter.widget-view+json": {
       "model_id": "ca90c135e07a45188f149e800a0ee374",
       "version_major": 2,
       "version_minor": 0
      },
      "text/plain": [
       "Downloading data:   0%|          | 0.00/3.64M [00:00<?, ?B/s]"
      ]
     },
     "metadata": {},
     "output_type": "display_data"
    },
    {
     "data": {
      "application/vnd.jupyter.widget-view+json": {
       "model_id": "df593e16fc914a48b1a65edc879a2533",
       "version_major": 2,
       "version_minor": 0
      },
      "text/plain": [
       "Generating train split:   0%|          | 0/2000 [00:00<?, ? examples/s]"
      ]
     },
     "metadata": {},
     "output_type": "display_data"
    },
    {
     "data": {
      "application/vnd.jupyter.widget-view+json": {
       "model_id": "7fed1077bab64ef69da114e410957110",
       "version_major": 2,
       "version_minor": 0
      },
      "text/plain": [
       "Generating validation split:   0%|          | 0/454 [00:00<?, ? examples/s]"
      ]
     },
     "metadata": {},
     "output_type": "display_data"
    },
    {
     "data": {
      "application/vnd.jupyter.widget-view+json": {
       "model_id": "c9545fe670d24c50af489897d1fb8b18",
       "version_major": 2,
       "version_minor": 0
      },
      "text/plain": [
       "Generating test split:   0%|          | 0/2000 [00:00<?, ? examples/s]"
      ]
     },
     "metadata": {},
     "output_type": "display_data"
    }
   ],
   "source": [
    "data = datasets.load_dataset(\"coref-data/gap_indiscrim\", split=\"validation\")"
   ]
  },
  {
   "cell_type": "code",
   "execution_count": 3,
   "metadata": {},
   "outputs": [
    {
     "data": {
      "text/plain": [
       "{'id': Value(dtype='string', id=None),\n",
       " 'text': Value(dtype='string', id=None),\n",
       " 'sentences': [{'end_char': Value(dtype='int64', id=None),\n",
       "   'id': Value(dtype='int64', id=None),\n",
       "   'speaker': Value(dtype='null', id=None),\n",
       "   'start_char': Value(dtype='int64', id=None),\n",
       "   'text': Value(dtype='string', id=None),\n",
       "   'tokens': [{'deprel': Value(dtype='string', id=None),\n",
       "     'end_char': Value(dtype='int64', id=None),\n",
       "     'feats': Value(dtype='string', id=None),\n",
       "     'head': Value(dtype='int64', id=None),\n",
       "     'id': Value(dtype='int64', id=None),\n",
       "     'lemma': Value(dtype='string', id=None),\n",
       "     'start_char': Value(dtype='int64', id=None),\n",
       "     'text': Value(dtype='string', id=None),\n",
       "     'upos': Value(dtype='string', id=None),\n",
       "     'xpos': Value(dtype='string', id=None)}]}],\n",
       " 'coref_chains': Sequence(feature=Sequence(feature=Sequence(feature=Value(dtype='int64', id=None), length=-1, id=None), length=-1, id=None), length=-1, id=None),\n",
       " 'genre': Value(dtype='string', id=None),\n",
       " 'meta_data': {'comment': Value(dtype='string', id=None),\n",
       "  'source': Value(dtype='string', id=None)}}"
      ]
     },
     "execution_count": 3,
     "metadata": {},
     "output_type": "execute_result"
    }
   ],
   "source": [
    "data.features"
   ]
  },
  {
   "cell_type": "code",
   "execution_count": 4,
   "metadata": {},
   "outputs": [],
   "source": [
    "## https://stackoverflow.com/questions/470690/how-to-automatically-generate-n-distinct-colors\n",
    "\n",
    "from typing import Iterable, Tuple\n",
    "import colorsys\n",
    "import itertools\n",
    "from fractions import Fraction\n",
    "from pprint import pprint\n",
    "\n",
    "def zenos_dichotomy() -> Iterable[Fraction]:\n",
    "    \"\"\"\n",
    "    http://en.wikipedia.org/wiki/1/2_%2B_1/4_%2B_1/8_%2B_1/16_%2B_%C2%B7_%C2%B7_%C2%B7\n",
    "    \"\"\"\n",
    "    for k in itertools.count():\n",
    "        yield Fraction(1,2**k)\n",
    "\n",
    "def fracs() -> Iterable[Fraction]:\n",
    "    \"\"\"\n",
    "    [Fraction(0, 1), Fraction(1, 2), Fraction(1, 4), Fraction(3, 4), Fraction(1, 8), Fraction(3, 8), Fraction(5, 8), Fraction(7, 8), Fraction(1, 16), Fraction(3, 16), ...]\n",
    "    [0.0, 0.5, 0.25, 0.75, 0.125, 0.375, 0.625, 0.875, 0.0625, 0.1875, ...]\n",
    "    \"\"\"\n",
    "    yield Fraction(0)\n",
    "    for k in zenos_dichotomy():\n",
    "        i = k.denominator # [1,2,4,8,16,...]\n",
    "        for j in range(1,i,2):\n",
    "            yield Fraction(j,i)\n",
    "\n",
    "# can be used for the v in hsv to map linear values 0..1 to something that looks equidistant\n",
    "# bias = lambda x: (math.sqrt(x/3)/Fraction(2,3)+Fraction(1,3))/Fraction(6,5)\n",
    "\n",
    "HSVTuple = Tuple[Fraction, Fraction, Fraction]\n",
    "RGBTuple = Tuple[float, float, float]\n",
    "\n",
    "def hue_to_tones(h: Fraction) -> Iterable[HSVTuple]:\n",
    "    for s in [Fraction(6,10)]: # optionally use range\n",
    "        for v in [Fraction(8,10),Fraction(5,10)]: # could use range too\n",
    "            yield (h, s, v) # use bias for v here if you use range\n",
    "\n",
    "def hsv_to_rgb(x: HSVTuple) -> RGBTuple:\n",
    "    return colorsys.hsv_to_rgb(*map(float, x))\n",
    "\n",
    "flatten = itertools.chain.from_iterable\n",
    "\n",
    "def hsvs() -> Iterable[HSVTuple]:\n",
    "    return flatten(map(hue_to_tones, fracs()))\n",
    "\n",
    "def rgbs() -> Iterable[RGBTuple]:\n",
    "    return map(hsv_to_rgb, hsvs())\n",
    "\n",
    "def rgb_to_css(x: RGBTuple) -> str:\n",
    "    uint8tuple = map(lambda y: int(y*255), x)\n",
    "    return \"rgb({},{},{})\".format(*uint8tuple)\n",
    "\n",
    "def css_colors() -> Iterable[str]:\n",
    "    return map(rgb_to_css, rgbs())\n",
    "\n",
    "def rgb_to_hex(x: RGBTuple) -> str:\n",
    "    uint8tuple = map(lambda y: int(y*255), x)\n",
    "    return '#{:02x}{:02x}{:02x}'.format(*uint8tuple)\n",
    "\n",
    "def hex_colors() -> Iterable[str]:\n",
    "    return map(rgb_to_hex, rgbs())"
   ]
  },
  {
   "cell_type": "code",
   "execution_count": 5,
   "metadata": {},
   "outputs": [
    {
     "data": {
      "text/plain": [
       "['#cc5151', '#7f3333', '#51cccc']"
      ]
     },
     "execution_count": 5,
     "metadata": {},
     "output_type": "execute_result"
    }
   ],
   "source": [
    "list(itertools.islice(hex_colors(), 3))"
   ]
  },
  {
   "cell_type": "code",
   "execution_count": 6,
   "metadata": {},
   "outputs": [],
   "source": [
    "from random import randint\n",
    "from spacy.tokens import Doc\n",
    "\n",
    "def visualize_document(sentences, coref_chains):\n",
    "    i = 0\n",
    "    local_to_global_idx = {}\n",
    "    for sent_i, s in enumerate(sentences):\n",
    "        for tok_i in range(len(s[\"tokens\"])):\n",
    "            local_to_global_idx[(sent_i, tok_i)] = i\n",
    "            i += 1\n",
    "    \n",
    "    words = [t[\"text\"] for s in sentences for t in s[\"tokens\"]]\n",
    "    # text = \" \".join(words)\n",
    "\n",
    "    nlp = spacy.blank(\"en\")\n",
    "    doc = Doc(nlp.vocab, words)\n",
    "\n",
    "    spans = []\n",
    "    for i, chain in enumerate(coref_chains):\n",
    "        if len(chain) < 1:\n",
    "            continue\n",
    "        for ment in chain:\n",
    "            sent, start, end = ment\n",
    "            span = Span(doc,\n",
    "                        local_to_global_idx[(sent, start)], \n",
    "                        local_to_global_idx[(sent, end)] + 1,\n",
    "                        f\"e{i}\")\n",
    "            spans.append(span)\n",
    "\n",
    "    colors = list(itertools.islice(hex_colors(), len(coref_chains)))\n",
    "    colors = {f\"e{i}\": colors[i] for i in range(len(coref_chains))}\n",
    "    doc.spans[\"sc\"] = spans\n",
    "\n",
    "    displacy.render(doc, style=\"span\", options={\"colors\": colors}, jupyter=True)\n",
    "    # displacy.serve(doc, style=\"span\", options={\"colors\": colors}, port=1001)"
   ]
  },
  {
   "cell_type": "code",
   "execution_count": 7,
   "metadata": {},
   "outputs": [],
   "source": [
    "examples = data.to_list()"
   ]
  },
  {
   "cell_type": "code",
   "execution_count": 8,
   "metadata": {},
   "outputs": [],
   "source": [
    "def head(toks, ment):\n",
    "    head = None\n",
    "    for tok in toks[ment[1]:ment[2] + 1]:\n",
    "        if not head or tok[\"head\"] < head:\n",
    "            if (tok[\"head\"] - 1 >= ment[1] and tok[\"head\"] - 1 <= ment[2]):\n",
    "                head = tok[\"head\"]\n",
    "    assert head is not None or ment[2] - ment[1] == 0\n",
    "    if head is None:\n",
    "        head = ment[1] + 1\n",
    "    return head\n",
    "\n",
    "def nested_chain(sentences, coref_chains):\n",
    "    for chain in coref_chains:\n",
    "        for m1 in chain:\n",
    "            for m2 in chain:\n",
    "                if not m1[0] == m2[0] or m1 == m2:\n",
    "                    continue\n",
    "                # if not (m1[2] < m2[1] or m1[1] > m2[2]): # and len(chain) == 2:\n",
    "                # if same head\n",
    "                toks = sentences[m1[0]][\"tokens\"]\n",
    "                if head(toks, m1) == head(toks, m2):\n",
    "                    print(m1, m2)\n",
    "                    print(head(toks, m1))\n",
    "                    return True\n",
    "    return False"
   ]
  },
  {
   "cell_type": "code",
   "execution_count": 9,
   "metadata": {},
   "outputs": [],
   "source": [
    "def bare_plurals(sentences, coref_chains):\n",
    "    for chain in coref_chains:\n",
    "        for m1 in chain:\n",
    "            for m2 in chain:\n",
    "                if m1 == m2:\n",
    "                    continue\n",
    "                if sentences[m1[0]][\"tokens\"][m1[-1]][\"text\"][-1] == \"s\" and sentences[m2[0]][\"tokens\"][m2[-1]][\"text\"][-1] == \"s\":\n",
    "                    print(m1, m2)\n",
    "                    return True\n",
    "    return False"
   ]
  },
  {
   "cell_type": "code",
   "execution_count": 10,
   "metadata": {},
   "outputs": [],
   "source": [
    "ex_i = -1"
   ]
  },
  {
   "cell_type": "code",
   "execution_count": 11,
   "metadata": {},
   "outputs": [],
   "source": [
    "ex_i -= 3"
   ]
  },
  {
   "cell_type": "code",
   "execution_count": 13,
   "metadata": {},
   "outputs": [
    {
     "name": "stdout",
     "output_type": "stream",
     "text": [
      "validation-453\n"
     ]
    },
    {
     "data": {
      "text/html": [
       "<span class=\"tex2jax_ignore\"><div class=\"spans\" style=\"line-height: 2.5; direction: ltr\">On April 4 , 1986 , Donal Henahan wrote in the New York Times of Millo 's performance in Don Carlo : `` Miss Millo sounds more and more like the Verdi soprano we 've been waiting for . '' Later in 1986 ( June 18 ) , reviewing a Metropolitan Opera production of Aida in Central Park , Mr. Rockwell wrote , `` \n",
       "<span style=\"font-weight: bold; display: inline-block; position: relative; height: 60px;\">\n",
       "    Miss\n",
       "    \n",
       "<span style=\"background: #7f3333; top: 40px; height: 4px; left: -1px; width: calc(100% + 2px); position: absolute;\">\n",
       "</span>\n",
       "\n",
       "    \n",
       "<span style=\"background: #7f3333; top: 40px; height: 4px; border-top-left-radius: 3px; border-bottom-left-radius: 3px; left: -1px; width: calc(100% + 2px); position: absolute;\">\n",
       "    <span style=\"background: #7f3333; z-index: 10; color: #000; top: -0.5em; padding: 2px 3px; position: absolute; font-size: 0.6em; font-weight: bold; line-height: 1; border-radius: 3px\">\n",
       "        e1\n",
       "    </span>\n",
       "</span>\n",
       "\n",
       "\n",
       "</span>\n",
       "\n",
       "<span style=\"font-weight: bold; display: inline-block; position: relative; height: 60px;\">\n",
       "    Millo\n",
       "    \n",
       "<span style=\"background: #7f3333; top: 40px; height: 4px; left: -1px; width: calc(100% + 2px); position: absolute;\">\n",
       "</span>\n",
       "\n",
       "    \n",
       "</span>\n",
       "has a real Verdi sound ... \n",
       "<span style=\"font-weight: bold; display: inline-block; position: relative; height: 60px;\">\n",
       "    her\n",
       "    \n",
       "<span style=\"background: #7f3333; top: 40px; height: 4px; left: -1px; width: calc(100% + 2px); position: absolute;\">\n",
       "</span>\n",
       "\n",
       "    \n",
       "<span style=\"background: #7f3333; top: 40px; height: 4px; border-top-left-radius: 3px; border-bottom-left-radius: 3px; left: -1px; width: calc(100% + 2px); position: absolute;\">\n",
       "    <span style=\"background: #7f3333; z-index: 10; color: #000; top: -0.5em; padding: 2px 3px; position: absolute; font-size: 0.6em; font-weight: bold; line-height: 1; border-radius: 3px\">\n",
       "        e1\n",
       "    </span>\n",
       "</span>\n",
       "\n",
       "\n",
       "</span>\n",
       "darkly yet delicately colored lower voice , full of urgency in the phrasing , and her overall mastery of this role from a technical and interpretive standpoint , are already very moving . </div></span>"
      ],
      "text/plain": [
       "<IPython.core.display.HTML object>"
      ]
     },
     "metadata": {},
     "output_type": "display_data"
    }
   ],
   "source": [
    "ex_i += 1\n",
    "while True:\n",
    "    print(examples[ex_i][\"id\"])\n",
    "    visualize_document(examples[ex_i][\"sentences\"], examples[ex_i][\"coref_chains\"])\n",
    "    ex_i += 1\n",
    "    break #36393"
   ]
  }
 ],
 "metadata": {
  "kernelspec": {
   "display_name": "venv",
   "language": "python",
   "name": "python3"
  },
  "language_info": {
   "codemirror_mode": {
    "name": "ipython",
    "version": 3
   },
   "file_extension": ".py",
   "mimetype": "text/x-python",
   "name": "python",
   "nbconvert_exporter": "python",
   "pygments_lexer": "ipython3",
   "version": "3.12.2"
  }
 },
 "nbformat": 4,
 "nbformat_minor": 2
}
