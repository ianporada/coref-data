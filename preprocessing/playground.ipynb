{
 "cells": [
  {
   "cell_type": "code",
   "execution_count": 36,
   "metadata": {},
   "outputs": [],
   "source": [
    "from pprint import pprint\n",
    "\n",
    "import datasets\n",
    "from stanza.utils.conll import FIELD_TO_IDX, CoNLL"
   ]
  },
  {
   "cell_type": "code",
   "execution_count": 37,
   "metadata": {},
   "outputs": [],
   "source": [
    "dataset = datasets.load_dataset(\"coref-data/gum_raw\")"
   ]
  },
  {
   "cell_type": "code",
   "execution_count": 49,
   "metadata": {},
   "outputs": [],
   "source": [
    "etypes = set()\n",
    "for ds in dataset.values():\n",
    "    for coref_entities in ds[\"coref_entities\"]:\n",
    "        for entity in coref_entities:\n",
    "            for mention in entity:\n",
    "                    etypes.add(mention[\"span\"])"
   ]
  },
  {
   "cell_type": "code",
   "execution_count": 51,
   "metadata": {},
   "outputs": [
    {
     "data": {
      "text/plain": [
       "[]"
      ]
     },
     "execution_count": 51,
     "metadata": {},
     "output_type": "execute_result"
    }
   ],
   "source": [
    "[x for x in etypes if \",\" in x]"
   ]
  },
  {
   "cell_type": "code",
   "execution_count": null,
   "metadata": {},
   "outputs": [],
   "source": []
  },
  {
   "cell_type": "code",
   "execution_count": 48,
   "metadata": {},
   "outputs": [
    {
     "data": {
      "text/plain": [
       "['link:appos',\n",
       " 'link:disc',\n",
       " 'link:pred',\n",
       " 'link:coref',\n",
       " 'link:ana',\n",
       " 'link:cata',\n",
       " 'link:sgl']"
      ]
     },
     "execution_count": 48,
     "metadata": {},
     "output_type": "execute_result"
    }
   ],
   "source": [
    "[x for x in etypes if \"link:\" in x] # \"identity:\" not in x and \"minspan:\" not in x and \"centering:\" not in x]"
   ]
  },
  {
   "cell_type": "code",
   "execution_count": 33,
   "metadata": {},
   "outputs": [
    {
     "name": "stdout",
     "output_type": "stream",
     "text": [
      "{'coref_entities': [[{'eid': Value(dtype='string', id=None),\n",
      "                      'eid_or_grp': Value(dtype='string', id=None),\n",
      "                      'etype': Value(dtype='string', id=None),\n",
      "                      'other': Value(dtype='string', id=None),\n",
      "                      'sent_id': Value(dtype='string', id=None),\n",
      "                      'span': Value(dtype='string', id=None)}]],\n",
      " 'doc_id': Value(dtype='string', id=None),\n",
      " 'ontogum_coref_chains': Sequence(feature=Sequence(feature=Sequence(feature=Value(dtype='int64',\n",
      "                                                                                  id=None),\n",
      "                                                                    length=-1,\n",
      "                                                                    id=None),\n",
      "                                                   length=-1,\n",
      "                                                   id=None),\n",
      "                                  length=-1,\n",
      "                                  id=None),\n",
      " 'ontogum_sentences': [[{'deprel': Value(dtype='string', id=None),\n",
      "                         'deps': Value(dtype='string', id=None),\n",
      "                         'feats': Value(dtype='string', id=None),\n",
      "                         'head': Value(dtype='int64', id=None),\n",
      "                         'id': Value(dtype='int64', id=None),\n",
      "                         'lemma': Value(dtype='string', id=None),\n",
      "                         'misc': Value(dtype='string', id=None),\n",
      "                         'text': Value(dtype='string', id=None),\n",
      "                         'upos': Value(dtype='string', id=None),\n",
      "                         'xpos': Value(dtype='string', id=None)}]],\n",
      " 'sentences': [{'comment': Value(dtype='string', id=None),\n",
      "                'conll_rows': [{'deprel': Value(dtype='string', id=None),\n",
      "                                'deps': Value(dtype='string', id=None),\n",
      "                                'feats': Value(dtype='string', id=None),\n",
      "                                'head': Value(dtype='int64', id=None),\n",
      "                                'id': Value(dtype='int64', id=None),\n",
      "                                'lemma': Value(dtype='string', id=None),\n",
      "                                'misc': Value(dtype='string', id=None),\n",
      "                                'text': Value(dtype='string', id=None),\n",
      "                                'upos': Value(dtype='string', id=None),\n",
      "                                'xpos': Value(dtype='string', id=None)}],\n",
      "                'global_entity': Value(dtype='string', id=None),\n",
      "                'newdoc': Value(dtype='string', id=None),\n",
      "                'newpar': Value(dtype='bool', id=None),\n",
      "                'sent_id': Value(dtype='string', id=None),\n",
      "                'speaker': Value(dtype='string', id=None),\n",
      "                'text': Value(dtype='string', id=None),\n",
      "                'tokens': [{'coref_mentions': [{'eid': Value(dtype='string',\n",
      "                                                             id=None),\n",
      "                                                'eid_or_grp': Value(dtype='string',\n",
      "                                                                    id=None),\n",
      "                                                'etype': Value(dtype='string',\n",
      "                                                               id=None),\n",
      "                                                'other': {'centering': Value(dtype='string',\n",
      "                                                                             id=None),\n",
      "                                                          'identity': Value(dtype='string',\n",
      "                                                                            id=None),\n",
      "                                                          'infstat': Value(dtype='string',\n",
      "                                                                           id=None),\n",
      "                                                          'link': Value(dtype='string',\n",
      "                                                                        id=None),\n",
      "                                                          'minspan': Value(dtype='string',\n",
      "                                                                           id=None)},\n",
      "                                                'span': Value(dtype='string',\n",
      "                                                              id=None)}],\n",
      "                            'deprel': Value(dtype='string', id=None),\n",
      "                            'feats': Value(dtype='string', id=None),\n",
      "                            'form': Value(dtype='string', id=None),\n",
      "                            'head': Value(dtype='int64', id=None),\n",
      "                            'lemma': Value(dtype='string', id=None),\n",
      "                            'misc': Value(dtype='string', id=None),\n",
      "                            'ord': Value(dtype='float64', id=None),\n",
      "                            'upos': Value(dtype='string', id=None),\n",
      "                            'xpos': Value(dtype='string', id=None)}]}]}\n"
     ]
    }
   ],
   "source": [
    "pprint(dataset[\"train\"].features)"
   ]
  },
  {
   "cell_type": "code",
   "execution_count": 20,
   "metadata": {},
   "outputs": [],
   "source": [
    "sents = [0]"
   ]
  },
  {
   "cell_type": "code",
   "execution_count": 29,
   "metadata": {},
   "outputs": [
    {
     "name": "stdout",
     "output_type": "stream",
     "text": [
      "{'coref_mentions': [{'eid': 'd2.1',\n",
      "                     'eid_or_grp': '1',\n",
      "                     'etype': 'person',\n",
      "                     'other': {'centering': 'cf1',\n",
      "                               'identity': None,\n",
      "                               'infstat': 'new',\n",
      "                               'link': 'coref',\n",
      "                               'minspan': '1'},\n",
      "                     'span': '3'}],\n",
      " 'deprel': 'nsubj:pass',\n",
      " 'feats': 'NumForm=Digit|NumType=Card',\n",
      " 'form': '107',\n",
      " 'head': 4,\n",
      " 'lemma': '107',\n",
      " 'ord': 3.0,\n",
      " 'upos': 'NUM',\n",
      " 'xpos': 'CD'}\n"
     ]
    }
   ],
   "source": [
    "def a():\n",
    "    for sents in dataset[\"train\"][\"sentences\"]:\n",
    "        for sent in sents:\n",
    "            for tok in sent[\"tokens\"]:\n",
    "                if tok[\"coref_mentions\"]:\n",
    "                    pprint(tok)\n",
    "                    return\n",
    "\n",
    "a()"
   ]
  },
  {
   "cell_type": "code",
   "execution_count": 13,
   "metadata": {},
   "outputs": [
    {
     "ename": "AttributeError",
     "evalue": "'list' object has no attribute 'keys'",
     "output_type": "error",
     "traceback": [
      "\u001b[0;31m---------------------------------------------------------------------------\u001b[0m",
      "\u001b[0;31mAttributeError\u001b[0m                            Traceback (most recent call last)",
      "Cell \u001b[0;32mIn[13], line 1\u001b[0m\n\u001b[0;32m----> 1\u001b[0m pprint(\u001b[43mdataset\u001b[49m\u001b[43m[\u001b[49m\u001b[38;5;124;43m\"\u001b[39;49m\u001b[38;5;124;43mtrain\u001b[39;49m\u001b[38;5;124;43m\"\u001b[39;49m\u001b[43m]\u001b[49m\u001b[43m[\u001b[49m\u001b[38;5;124;43m\"\u001b[39;49m\u001b[38;5;124;43msentences\u001b[39;49m\u001b[38;5;124;43m\"\u001b[39;49m\u001b[43m]\u001b[49m\u001b[43m[\u001b[49m\u001b[38;5;241;43m0\u001b[39;49m\u001b[43m]\u001b[49m\u001b[38;5;241;43m.\u001b[39;49m\u001b[43mkeys\u001b[49m())\n",
      "\u001b[0;31mAttributeError\u001b[0m: 'list' object has no attribute 'keys'"
     ]
    }
   ],
   "source": [
    "pprint(dataset[\"train\"][\"sentences\"][0].keys())"
   ]
  },
  {
   "cell_type": "code",
   "execution_count": 15,
   "metadata": {},
   "outputs": [
    {
     "data": {
      "text/plain": [
       "'news'"
      ]
     },
     "execution_count": 15,
     "metadata": {},
     "output_type": "execute_result"
    }
   ],
   "source": [
    "import re\n",
    "re.search(\"GUM_(.*)_\", \"GUM_news_crane\").group(1)"
   ]
  },
  {
   "cell_type": "code",
   "execution_count": 2,
   "metadata": {},
   "outputs": [],
   "source": [
    "def split_doc_into_doc_parts(example):\n",
    "    \"\"\"take a doc and return the doc parts\"\"\"\n",
    "    doc_parts_dict = {} # {0: [], 1:[], ...}\n",
    "    for sent_dict in example['sentences'][0]:\n",
    "        sent_part_id = sent_dict['part_id']\n",
    "        if sent_part_id in doc_parts_dict:\n",
    "            doc_parts_dict[sent_part_id].append(sent_dict)\n",
    "        else:\n",
    "            doc_parts_dict[sent_part_id] = [sent_dict]\n",
    "    document_id = example['document_id'][0]\n",
    "    return {'document_id': [f'{document_id}/part_{k}' for k in doc_parts_dict],\n",
    "            'sentences': [doc_parts_dict[k] for k in doc_parts_dict]}"
   ]
  },
  {
   "cell_type": "code",
   "execution_count": 3,
   "metadata": {},
   "outputs": [
    {
     "name": "stderr",
     "output_type": "stream",
     "text": [
      "Downloading readme: 100%|██████████| 10.1k/10.1k [00:00<00:00, 12.5MB/s]\n",
      "Downloading data: 100%|██████████| 16.8M/16.8M [00:01<00:00, 11.3MB/s]\n",
      "Downloading data: 100%|██████████| 2.21M/2.21M [00:00<00:00, 6.16MB/s]\n",
      "Downloading data: 100%|██████████| 2.24M/2.24M [00:00<00:00, 2.97MB/s]\n",
      "Generating train split: 1940 examples [00:00, 8520.39 examples/s]\n",
      "Generating validation split: 222 examples [00:00, 10351.59 examples/s]\n",
      "Generating test split: 222 examples [00:00, 10224.62 examples/s]\n"
     ]
    }
   ],
   "source": [
    "dataset = datasets.load_dataset(\"coref-data/conll2012_raw\", \"english_v4\")\n",
    "\n"
   ]
  },
  {
   "cell_type": "code",
   "execution_count": 4,
   "metadata": {},
   "outputs": [
    {
     "name": "stderr",
     "output_type": "stream",
     "text": [
      "Map: 100%|██████████| 1940/1940 [00:07<00:00, 255.91 examples/s]\n",
      "Map: 100%|██████████| 222/222 [00:00<00:00, 240.55 examples/s]\n",
      "Map: 100%|██████████| 222/222 [00:01<00:00, 221.91 examples/s]\n"
     ]
    }
   ],
   "source": [
    "d = dataset.map(\n",
    "        split_doc_into_doc_parts,\n",
    "        batched=True,\n",
    "        batch_size=1,\n",
    "    )"
   ]
  },
  {
   "cell_type": "code",
   "execution_count": 5,
   "metadata": {},
   "outputs": [
    {
     "name": "stderr",
     "output_type": "stream",
     "text": [
      "Map (num_proc=4): 100%|██████████| 1940/1940 [00:02<00:00, 765.25 examples/s] \n",
      "Map (num_proc=4): 100%|██████████| 222/222 [00:00<00:00, 616.99 examples/s]\n",
      "Map (num_proc=4): 100%|██████████| 222/222 [00:00<00:00, 578.12 examples/s]\n"
     ]
    }
   ],
   "source": [
    "d = dataset.map(\n",
    "        split_doc_into_doc_parts,\n",
    "        batched=True,\n",
    "        batch_size=1,\n",
    "        num_proc=4\n",
    "    )"
   ]
  },
  {
   "cell_type": "code",
   "execution_count": 6,
   "metadata": {},
   "outputs": [
    {
     "name": "stderr",
     "output_type": "stream",
     "text": [
      "Map (num_proc=12): 100%|██████████| 1940/1940 [00:01<00:00, 1230.95 examples/s]\n",
      "Map (num_proc=12): 100%|██████████| 222/222 [00:00<00:00, 845.29 examples/s] \n",
      "Map (num_proc=12): 100%|██████████| 222/222 [00:00<00:00, 804.42 examples/s] \n"
     ]
    }
   ],
   "source": [
    "d = dataset.map(\n",
    "        split_doc_into_doc_parts,\n",
    "        batched=True,\n",
    "        batch_size=1,\n",
    "        num_proc=12\n",
    "    )"
   ]
  },
  {
   "cell_type": "code",
   "execution_count": 7,
   "metadata": {},
   "outputs": [
    {
     "name": "stderr",
     "output_type": "stream",
     "text": [
      "Map (num_proc=18): 100%|██████████| 1940/1940 [00:01<00:00, 1357.55 examples/s]\n",
      "Map (num_proc=18): 100%|██████████| 222/222 [00:00<00:00, 653.50 examples/s] \n",
      "Map (num_proc=18): 100%|██████████| 222/222 [00:00<00:00, 651.35 examples/s] \n"
     ]
    }
   ],
   "source": [
    "d = dataset.map(\n",
    "        split_doc_into_doc_parts,\n",
    "        batched=True,\n",
    "        batch_size=1,\n",
    "        num_proc=18\n",
    "    )"
   ]
  },
  {
   "cell_type": "code",
   "execution_count": 8,
   "metadata": {},
   "outputs": [
    {
     "name": "stdout",
     "output_type": "stream",
     "text": [
      "6\n"
     ]
    }
   ],
   "source": [
    "def sum_list(x: list[int]) -> int:\n",
    "    return sum(x)\n",
    "\n",
    "print(sum_list([1, 2, 3]))"
   ]
  },
  {
   "cell_type": "code",
   "execution_count": 13,
   "metadata": {},
   "outputs": [],
   "source": [
    "a, b = [1, 2]"
   ]
  }
 ],
 "metadata": {
  "kernelspec": {
   "display_name": "venv",
   "language": "python",
   "name": "python3"
  },
  "language_info": {
   "codemirror_mode": {
    "name": "ipython",
    "version": 3
   },
   "file_extension": ".py",
   "mimetype": "text/x-python",
   "name": "python",
   "nbconvert_exporter": "python",
   "pygments_lexer": "ipython3",
   "version": "3.12.1"
  }
 },
 "nbformat": 4,
 "nbformat_minor": 2
}
