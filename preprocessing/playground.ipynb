{
 "cells": [
  {
   "cell_type": "code",
   "execution_count": 9,
   "metadata": {},
   "outputs": [],
   "source": [
    "from pprint import pprint\n",
    "\n",
    "import datasets\n",
    "from stanza.utils.conll import FIELD_TO_IDX, CoNLL"
   ]
  },
  {
   "cell_type": "code",
   "execution_count": 37,
   "metadata": {},
   "outputs": [
    {
     "name": "stderr",
     "output_type": "stream",
     "text": [
      "Downloading readme: 100%|██████████| 1.61k/1.61k [00:00<00:00, 4.74MB/s]\n",
      "Downloading data: 100%|██████████| 64.2k/64.2k [00:00<00:00, 282kB/s]\n",
      "Generating test split: 100%|██████████| 60/60 [00:00<00:00, 11766.88 examples/s]\n"
     ]
    }
   ],
   "source": [
    "dataset = datasets.load_dataset(\"coref-data/davis_pdp_indiscrim\")"
   ]
  },
  {
   "cell_type": "code",
   "execution_count": 38,
   "metadata": {},
   "outputs": [],
   "source": [
    "text = dataset[\"test\"][\"text\"][0]\n",
    "sentences = dataset[\"test\"][\"sentences\"][0]\n",
    "coref_chains = dataset[\"test\"][\"coref_chains\"][0]"
   ]
  },
  {
   "cell_type": "code",
   "execution_count": 55,
   "metadata": {},
   "outputs": [
    {
     "name": "stdout",
     "output_type": "stream",
     "text": [
      "Men had the right to keep their sons working for them until they were 21 years of age.\n",
      "[[[0, 0, 0]], [[0, 7, 7], [0, 12, 12]]]\n",
      "[['Men', 'had', 'the', 'right', 'to', 'keep', 'their', 'sons', 'working', 'for', 'them', 'until', 'they', 'were', '21', 'years', 'of', 'age', '.']]\n",
      "-----new chain-----\n",
      "Men\n",
      "-----new chain-----\n",
      "sons\n",
      "they\n"
     ]
    }
   ],
   "source": [
    "id = 23\n",
    "text = dataset[\"test\"][\"text\"][id]\n",
    "sentences = dataset[\"test\"][\"sentences\"][id]\n",
    "coref_chains = dataset[\"test\"][\"coref_chains\"][id]\n",
    "\n",
    "print(text)\n",
    "print(coref_chains)\n",
    "print([[t[\"text\"] for t in s[\"tokens\"]] for s in sentences])\n",
    "for chain in coref_chains:\n",
    "    print(\"-----new chain-----\")\n",
    "    for sent, start, end in chain:\n",
    "        toks = sentences[sent][\"tokens\"][start:end+1]\n",
    "        print(\" \".join([t[\"text\"] for t in toks]))"
   ]
  },
  {
   "cell_type": "code",
   "execution_count": 19,
   "metadata": {},
   "outputs": [],
   "source": [
    "import re\n",
    "\n",
    "t = \"Then Dad figured out how much the man owed the store; to that he added the man's board-bill at the cook-shanty. He subtracted that amount from the man's wages, and made out his check\"\n",
    "o = \"the man\"\n",
    "option_starts = [m.start() for m in re.finditer(o, t)]"
   ]
  },
  {
   "cell_type": "code",
   "execution_count": 28,
   "metadata": {},
   "outputs": [
    {
     "name": "stdout",
     "output_type": "stream",
     "text": [
      "[30, 71, 143]\n"
     ]
    },
    {
     "data": {
      "text/plain": [
       "['the man', 'the man', 'the man']"
      ]
     },
     "execution_count": 28,
     "metadata": {},
     "output_type": "execute_result"
    }
   ],
   "source": [
    "print(option_starts)\n",
    "[t[s:s+len(o)] for s in option_starts]"
   ]
  },
  {
   "cell_type": "code",
   "execution_count": 75,
   "metadata": {},
   "outputs": [],
   "source": [
    "# find about coref_data types\n",
    "etypes = set()\n",
    "spans = set()\n",
    "for lang_ds in corefud_datasets:\n",
    "    for ds in lang_ds.values():\n",
    "        for coref_entities in ds[\"coref_entities\"]:\n",
    "            for entity in coref_entities:\n",
    "                for mention in entity:\n",
    "                        spans.add(mention[\"span\"])\n",
    "                        for x in mention[\"other\"].split(\",\"):\n",
    "                            etypes.add(x)"
   ]
  }
 ],
 "metadata": {
  "kernelspec": {
   "display_name": "venv",
   "language": "python",
   "name": "python3"
  },
  "language_info": {
   "codemirror_mode": {
    "name": "ipython",
    "version": 3
   },
   "file_extension": ".py",
   "mimetype": "text/x-python",
   "name": "python",
   "nbconvert_exporter": "python",
   "pygments_lexer": "ipython3",
   "version": "3.12.1"
  }
 },
 "nbformat": 4,
 "nbformat_minor": 2
}
