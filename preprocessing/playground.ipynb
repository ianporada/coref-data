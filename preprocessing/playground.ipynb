{
 "cells": [
  {
   "cell_type": "code",
   "execution_count": 106,
   "metadata": {},
   "outputs": [],
   "source": [
    "from pprint import pprint\n",
    "\n",
    "import datasets\n",
    "from stanza.utils.conll import FIELD_TO_IDX, CoNLL"
   ]
  },
  {
   "cell_type": "code",
   "execution_count": 104,
   "metadata": {},
   "outputs": [],
   "source": [
    "import collections\n",
    "sets = collections.defaultdict(set)\n",
    "for ds in dataset[\"train\"]:\n",
    "    for markable in ds[\"markable\"]:\n",
    "        for key, value in markable.items():\n",
    "            sets[key].add(value)"
   ]
  },
  {
   "cell_type": "code",
   "execution_count": 96,
   "metadata": {},
   "outputs": [],
   "source": [
    "sid = \"wsj0003-001-p1s25\"\n",
    "\n",
    "sent = None\n",
    "for ds in dataset[\"validation\"]:\n",
    "    for sentence in ds[\"sentences\"]:\n",
    "        if sentence[\"sent_id\"] == sid:\n",
    "            sent = sentence\n",
    "\n",
    "\n",
    "    # for coref_entities in ds[\"coref_entities\"]:\n",
    "    #     for entity in coref_entities:\n",
    "    #         for mention in entity:\n",
    "    #                 spans.add(mention[\"span\"])\n",
    "    #                 for x in mention[\"other\"].split(\",\"):\n",
    "    #                     etypes.add(x)"
   ]
  },
  {
   "cell_type": "code",
   "execution_count": 75,
   "metadata": {},
   "outputs": [],
   "source": [
    "etypes = set()\n",
    "spans = set()\n",
    "for lang_ds in corefud_datasets:\n",
    "    for ds in lang_ds.values():\n",
    "        for coref_entities in ds[\"coref_entities\"]:\n",
    "            for entity in coref_entities:\n",
    "                for mention in entity:\n",
    "                        spans.add(mention[\"span\"])\n",
    "                        for x in mention[\"other\"].split(\",\"):\n",
    "                            etypes.add(x)"
   ]
  }
 ],
 "metadata": {
  "kernelspec": {
   "display_name": "venv",
   "language": "python",
   "name": "python3"
  },
  "language_info": {
   "codemirror_mode": {
    "name": "ipython",
    "version": 3
   },
   "file_extension": ".py",
   "mimetype": "text/x-python",
   "name": "python",
   "nbconvert_exporter": "python",
   "pygments_lexer": "ipython3",
   "version": "3.12.1"
  }
 },
 "nbformat": 4,
 "nbformat_minor": 2
}
