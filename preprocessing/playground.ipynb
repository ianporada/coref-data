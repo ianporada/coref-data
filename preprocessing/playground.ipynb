{
 "cells": [
  {
   "cell_type": "code",
   "execution_count": 15,
   "metadata": {},
   "outputs": [
    {
     "name": "stderr",
     "output_type": "stream",
     "text": [
      "2024-01-27 12:44:46 INFO: Checking for updates to resources.json in case models have been updated.  Note: this behavior can be turned off with download_method=None or download_method=DownloadMethod.REUSE_RESOURCES\n",
      "Downloading https://raw.githubusercontent.com/stanfordnlp/stanza-resources/main/resources_1.7.0.json: 370kB [00:00, 82.0MB/s]                    \n",
      "2024-01-27 12:44:47 INFO: Loading these models for language: en (English):\n",
      "======================================\n",
      "| Processor | Package                |\n",
      "--------------------------------------\n",
      "| tokenize  | combined               |\n",
      "| mwt       | combined               |\n",
      "| pos       | combined_electra-large |\n",
      "| lemma     | combined_charlm        |\n",
      "| depparse  | combined_electra-large |\n",
      "======================================\n",
      "\n",
      "2024-01-27 12:44:47 INFO: Using device: cpu\n",
      "2024-01-27 12:44:47 INFO: Loading: tokenize\n",
      "2024-01-27 12:44:47 INFO: Loading: mwt\n",
      "2024-01-27 12:44:47 INFO: Loading: pos\n",
      "2024-01-27 12:44:49 INFO: Loading: lemma\n",
      "2024-01-27 12:44:49 INFO: Loading: depparse\n",
      "2024-01-27 12:44:49 INFO: Done loading processors!\n"
     ]
    }
   ],
   "source": [
    "import stanza\n",
    "from transformers import AutoModel\n",
    "\n",
    "nlp = stanza.Pipeline(lang='en', processors='tokenize,mwt,pos,lemma,depparse', package=\"default_accurate\")"
   ]
  },
  {
   "cell_type": "code",
   "execution_count": 54,
   "metadata": {},
   "outputs": [
    {
     "name": "stdout",
     "output_type": "stream",
     "text": [
      "Larry , a timid teen-ager, lives with his widowed mother in a Brooklyn housing project. Larry Larry's father , a gang leader, was shot to death; his father's disciple, Antonio , takes Larry under his wing, and quickly molds him into a drug runner.\n",
      "[[[1, 19, 19], [1, 24, 24]]]\n",
      "[['Larry', ',', 'a', 'timid', 'teen', '-', 'ager', ',', 'lives', 'with', 'his', 'widowed', 'mother', 'in', 'a', 'Brooklyn', 'housing', 'project', '.'], ['Larry', 'Larry', \"'s\", 'father', ',', 'a', 'gang', 'leader', ',', 'was', 'shot', 'to', 'death', ';', 'his', 'father', \"'s\", 'disciple', ',', 'Antonio', ',', 'takes', 'Larry', 'under', 'his', 'wing', ',', 'and', 'quickly', 'molds', 'him', 'into', 'a', 'drug', 'runner', '.']]\n",
      "-----new chain-----\n",
      "Antonio\n",
      "his\n",
      "14\n"
     ]
    }
   ],
   "source": [
    "# a = d.filter(lambda x: \"police\" in x[\"text\"])\n",
    "\n",
    "ex = dataset[\"validation\"].to_list()[i]\n",
    "print(ex[\"text\"])\n",
    "print(ex[\"coref_chains\"])\n",
    "print([[t[\"text\"] for t in s[\"tokens\"]] for s in ex[\"sentences\"]])\n",
    "for chain in ex[\"coref_chains\"]:\n",
    "    print(\"-----new chain-----\")\n",
    "    for sent, start, end in chain:\n",
    "        toks = ex[\"sentences\"][sent][\"tokens\"][start:end+1]\n",
    "        print(\" \".join([t[\"text\"] for t in toks]))\n",
    "i += 1\n",
    "print(i)"
   ]
  },
  {
   "cell_type": "code",
   "execution_count": 75,
   "metadata": {},
   "outputs": [],
   "source": [
    "# find about coref_data types\n",
    "etypes = set()\n",
    "spans = set()\n",
    "for lang_ds in corefud_datasets:\n",
    "    for ds in lang_ds.values():\n",
    "        for coref_entities in ds[\"coref_entities\"]:\n",
    "            for entity in coref_entities:\n",
    "                for mention in entity:\n",
    "                        spans.add(mention[\"span\"])\n",
    "                        for x in mention[\"other\"].split(\",\"):\n",
    "                            etypes.add(x)"
   ]
  }
 ],
 "metadata": {
  "kernelspec": {
   "display_name": "venv",
   "language": "python",
   "name": "python3"
  },
  "language_info": {
   "codemirror_mode": {
    "name": "ipython",
    "version": 3
   },
   "file_extension": ".py",
   "mimetype": "text/x-python",
   "name": "python",
   "nbconvert_exporter": "python",
   "pygments_lexer": "ipython3",
   "version": "3.12.1"
  }
 },
 "nbformat": 4,
 "nbformat_minor": 2
}
