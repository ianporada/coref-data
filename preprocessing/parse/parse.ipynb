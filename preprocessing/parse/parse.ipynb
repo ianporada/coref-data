{
 "cells": [
  {
   "cell_type": "code",
   "execution_count": 1,
   "metadata": {},
   "outputs": [],
   "source": [
    "import datasets\n",
    "from datasets import load_dataset"
   ]
  },
  {
   "cell_type": "code",
   "execution_count": 6,
   "metadata": {},
   "outputs": [],
   "source": [
    "datasets_to_parse = [\n",
    "    (\"coref-data/preco_indiscrim\", \"default\"),\n",
    "    (\"coref-data/litbank_indiscrim\", \"split_0\"),\n",
    "    (\"coref-data/arrau_indiscrim\", \"default\"),\n",
    "    (\"coref-data/phrase_detectives_indiscrim\", \"default\"),\n",
    "    (\"coref-data/mmc_indiscrim\", \"mmc_en\"),\n",
    "]\n",
    "\n",
    "# (\"coref-data/gum_indiscrim\", \"ontogum\"), # just constituency\n",
    "# (\"coref-data/gum_indiscrim\", \"original\"), # just constituency\n",
    "\n",
    "# \"misc\": { \"parse_tree\"\n",
    "# { \"deprel\": \"prep\", \"head\": 2, \"id\": 3, \"text\": \"of\", \"upos\": \"IN\", \"xpos\": \"IN\" }"
   ]
  },
  {
   "cell_type": "code",
   "execution_count": 7,
   "metadata": {},
   "outputs": [],
   "source": [
    "dataset_name, dataset_config = datasets_to_parse[0]\n",
    "dataset = load_dataset(dataset_name, dataset_config)"
   ]
  },
  {
   "cell_type": "code",
   "execution_count": 9,
   "metadata": {},
   "outputs": [
    {
     "name": "stderr",
     "output_type": "stream",
     "text": [
      "2024-02-12 21:20:22 INFO: Checking for updates to resources.json in case models have been updated.  Note: this behavior can be turned off with download_method=None or download_method=DownloadMethod.REUSE_RESOURCES\n"
     ]
    },
    {
     "data": {
      "application/vnd.jupyter.widget-view+json": {
       "model_id": "cf790329ecf54355b043b69f73eba820",
       "version_major": 2,
       "version_minor": 0
      },
      "text/plain": [
       "Downloading https://raw.githubusercontent.com/stanfordnlp/stanza-resources/main/resources_1.7.0.json:   0%|   …"
      ]
     },
     "metadata": {},
     "output_type": "display_data"
    },
    {
     "name": "stderr",
     "output_type": "stream",
     "text": [
      "2024-02-12 21:20:23 INFO: Loading these models for language: en (English):\n",
      "======================================\n",
      "| Processor    | Package             |\n",
      "--------------------------------------\n",
      "| tokenize     | combined            |\n",
      "| mwt          | combined            |\n",
      "| pos          | combined_charlm     |\n",
      "| lemma        | combined_nocharlm   |\n",
      "| constituency | ptb3-revised_charlm |\n",
      "| depparse     | combined_charlm     |\n",
      "======================================\n",
      "\n",
      "2024-02-12 21:20:23 INFO: Using device: cpu\n",
      "2024-02-12 21:20:23 INFO: Loading: tokenize\n",
      "2024-02-12 21:20:23 INFO: Loading: mwt\n",
      "2024-02-12 21:20:23 INFO: Loading: pos\n",
      "2024-02-12 21:20:24 INFO: Loading: lemma\n",
      "2024-02-12 21:20:24 INFO: Loading: constituency\n",
      "2024-02-12 21:20:24 INFO: Loading: depparse\n",
      "2024-02-12 21:20:24 INFO: Done loading processors!\n"
     ]
    }
   ],
   "source": [
    "import stanza\n",
    "\n",
    "nlp = stanza.Pipeline(lang='en', processors='tokenize,mwt,pos,lemma,depparse,constituency', tokenize_pretokenized=True)"
   ]
  },
  {
   "cell_type": "code",
   "execution_count": 28,
   "metadata": {},
   "outputs": [],
   "source": [
    "def add_parse_to_example(example):\n",
    "    sentences = example[\"sentences\"]\n",
    "    words = [[t[\"text\"] for t in s[\"tokens\"]] for s in sentences]\n",
    "    doc = nlp(words)\n",
    "    \n",
    "    for stanza_sentence, sentence in zip(doc.sentences, sentences):\n",
    "        sentence[\"misc\"] = {\"parse_tree\": str(stanza_sentence.constituency)}\n",
    "        for stanza_word, token in zip(stanza_sentence.words, sentence[\"tokens\"]):\n",
    "            assert stanza_word.text == token[\"text\"] and stanza_word.id == token[\"id\"]\n",
    "            word_dict = stanza_word.to_dict()\n",
    "            for key, value in word_dict.items():\n",
    "                token[key] = value"
   ]
  },
  {
   "cell_type": "code",
   "execution_count": 27,
   "metadata": {},
   "outputs": [
    {
     "name": "stdout",
     "output_type": "stream",
     "text": [
      "{'id': 1, 'speaker': None, 'text': 'Dear Sir or Madam.', 'tokens': [{'id': 1, 'text': 'Dear', 'lemma': 'dear', 'upos': 'ADJ', 'xpos': 'JJ', 'feats': 'Degree=Pos', 'head': 2, 'deprel': 'amod', 'misc': '', 'start_char': 0, 'end_char': 4}, {'id': 2, 'text': 'Sir', 'lemma': 'Sir', 'upos': 'PROPN', 'xpos': 'NNP', 'feats': 'Number=Sing', 'head': 0, 'deprel': 'root', 'misc': '', 'start_char': 5, 'end_char': 8}, {'id': 3, 'text': 'or', 'lemma': 'or', 'upos': 'CCONJ', 'xpos': 'CC', 'head': 4, 'deprel': 'cc', 'misc': '', 'start_char': 9, 'end_char': 11}, {'id': 4, 'text': 'Madam', 'lemma': 'Madam', 'upos': 'PROPN', 'xpos': 'NNP', 'feats': 'Number=Sing', 'head': 2, 'deprel': 'conj', 'misc': '', 'start_char': 12, 'end_char': 17}, {'id': 5, 'text': '.', 'lemma': '.', 'upos': 'PUNCT', 'xpos': '.', 'head': 2, 'deprel': 'punct', 'misc': '', 'start_char': 18, 'end_char': 19}], 'misc': {'parse_tree': '(ROOT (NP (JJ Dear) (NNP Sir) (CC or) (NNP Madam) (. .)))'}}\n"
     ]
    }
   ],
   "source": [
    "validation_split = dataset[\"validation\"]\n",
    "\n",
    "examples = validation_split.to_list()\n",
    "for example in examples:\n",
    "    add_parse_to_example(example)"
   ]
  }
 ],
 "metadata": {
  "kernelspec": {
   "display_name": "venv",
   "language": "python",
   "name": "python3"
  },
  "language_info": {
   "codemirror_mode": {
    "name": "ipython",
    "version": 3
   },
   "file_extension": ".py",
   "mimetype": "text/x-python",
   "name": "python",
   "nbconvert_exporter": "python",
   "pygments_lexer": "ipython3",
   "version": "3.12.1"
  }
 },
 "nbformat": 4,
 "nbformat_minor": 2
}
